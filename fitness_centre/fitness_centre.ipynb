{
 "cells": [
  {
   "cell_type": "markdown",
   "metadata": {},
   "source": [
    "---\n",
    "# Аналитика в сети фитнес-центров\n",
    "---"
   ]
  },
  {
   "cell_type": "markdown",
   "metadata": {},
   "source": [
    "## Импорт библиотек\n",
    "___"
   ]
  },
  {
   "cell_type": "code",
   "execution_count": 1,
   "metadata": {},
   "outputs": [],
   "source": [
    "import pandas as pd\n",
    "import seaborn as sns\n",
    "import matplotlib.pyplot as plt\n",
    "import warnings\n",
    "\n",
    "warnings.filterwarnings(\"ignore\")\n",
    "\n",
    "from sklearn.model_selection import train_test_split\n",
    "from sklearn.preprocessing import StandardScaler\n",
    "from sklearn.linear_model import LogisticRegression\n",
    "from sklearn.ensemble import RandomForestClassifier\n",
    "from sklearn.cluster import KMeans\n",
    "from scipy.cluster.hierarchy import dendrogram, linkage\n",
    "from sklearn.metrics import accuracy_score, precision_score, recall_score"
   ]
  },
  {
   "cell_type": "markdown",
   "metadata": {},
   "source": [
    "## Загрузка данных\n",
    "___"
   ]
  },
  {
   "cell_type": "code",
   "execution_count": 2,
   "metadata": {},
   "outputs": [],
   "source": [
    "df = pd.read_csv('gym_churn.csv')"
   ]
  },
  {
   "cell_type": "markdown",
   "metadata": {},
   "source": [
    "## Предобработка и анализ данных\n",
    "___"
   ]
  },
  {
   "cell_type": "code",
   "execution_count": 3,
   "metadata": {
    "scrolled": false
   },
   "outputs": [
    {
     "data": {
      "text/html": [
       "<div>\n",
       "<style scoped>\n",
       "    .dataframe tbody tr th:only-of-type {\n",
       "        vertical-align: middle;\n",
       "    }\n",
       "\n",
       "    .dataframe tbody tr th {\n",
       "        vertical-align: top;\n",
       "    }\n",
       "\n",
       "    .dataframe thead th {\n",
       "        text-align: right;\n",
       "    }\n",
       "</style>\n",
       "<table border=\"1\" class=\"dataframe\">\n",
       "  <thead>\n",
       "    <tr style=\"text-align: right;\">\n",
       "      <th></th>\n",
       "      <th>gender</th>\n",
       "      <th>Near_Location</th>\n",
       "      <th>Partner</th>\n",
       "      <th>Promo_friends</th>\n",
       "      <th>Phone</th>\n",
       "      <th>Contract_period</th>\n",
       "      <th>Group_visits</th>\n",
       "      <th>Age</th>\n",
       "      <th>Avg_additional_charges_total</th>\n",
       "      <th>Month_to_end_contract</th>\n",
       "      <th>Lifetime</th>\n",
       "      <th>Avg_class_frequency_total</th>\n",
       "      <th>Avg_class_frequency_current_month</th>\n",
       "      <th>Churn</th>\n",
       "    </tr>\n",
       "  </thead>\n",
       "  <tbody>\n",
       "    <tr>\n",
       "      <th>1882</th>\n",
       "      <td>1</td>\n",
       "      <td>1</td>\n",
       "      <td>1</td>\n",
       "      <td>0</td>\n",
       "      <td>1</td>\n",
       "      <td>12</td>\n",
       "      <td>1</td>\n",
       "      <td>30</td>\n",
       "      <td>158.657501</td>\n",
       "      <td>9.0</td>\n",
       "      <td>7</td>\n",
       "      <td>0.987553</td>\n",
       "      <td>0.874790</td>\n",
       "      <td>0</td>\n",
       "    </tr>\n",
       "    <tr>\n",
       "      <th>2804</th>\n",
       "      <td>1</td>\n",
       "      <td>1</td>\n",
       "      <td>0</td>\n",
       "      <td>0</td>\n",
       "      <td>1</td>\n",
       "      <td>1</td>\n",
       "      <td>0</td>\n",
       "      <td>31</td>\n",
       "      <td>133.525137</td>\n",
       "      <td>1.0</td>\n",
       "      <td>5</td>\n",
       "      <td>2.157311</td>\n",
       "      <td>2.041093</td>\n",
       "      <td>0</td>\n",
       "    </tr>\n",
       "    <tr>\n",
       "      <th>1613</th>\n",
       "      <td>0</td>\n",
       "      <td>1</td>\n",
       "      <td>0</td>\n",
       "      <td>0</td>\n",
       "      <td>1</td>\n",
       "      <td>1</td>\n",
       "      <td>1</td>\n",
       "      <td>27</td>\n",
       "      <td>118.910280</td>\n",
       "      <td>1.0</td>\n",
       "      <td>5</td>\n",
       "      <td>0.912151</td>\n",
       "      <td>0.900553</td>\n",
       "      <td>0</td>\n",
       "    </tr>\n",
       "    <tr>\n",
       "      <th>2819</th>\n",
       "      <td>1</td>\n",
       "      <td>0</td>\n",
       "      <td>1</td>\n",
       "      <td>0</td>\n",
       "      <td>1</td>\n",
       "      <td>1</td>\n",
       "      <td>0</td>\n",
       "      <td>32</td>\n",
       "      <td>32.502052</td>\n",
       "      <td>1.0</td>\n",
       "      <td>0</td>\n",
       "      <td>1.329883</td>\n",
       "      <td>1.435857</td>\n",
       "      <td>1</td>\n",
       "    </tr>\n",
       "    <tr>\n",
       "      <th>329</th>\n",
       "      <td>1</td>\n",
       "      <td>1</td>\n",
       "      <td>0</td>\n",
       "      <td>0</td>\n",
       "      <td>1</td>\n",
       "      <td>1</td>\n",
       "      <td>1</td>\n",
       "      <td>27</td>\n",
       "      <td>133.570180</td>\n",
       "      <td>1.0</td>\n",
       "      <td>2</td>\n",
       "      <td>3.102029</td>\n",
       "      <td>3.161236</td>\n",
       "      <td>0</td>\n",
       "    </tr>\n",
       "    <tr>\n",
       "      <th>2768</th>\n",
       "      <td>0</td>\n",
       "      <td>1</td>\n",
       "      <td>0</td>\n",
       "      <td>0</td>\n",
       "      <td>1</td>\n",
       "      <td>1</td>\n",
       "      <td>0</td>\n",
       "      <td>28</td>\n",
       "      <td>59.622619</td>\n",
       "      <td>1.0</td>\n",
       "      <td>1</td>\n",
       "      <td>2.339075</td>\n",
       "      <td>2.207436</td>\n",
       "      <td>0</td>\n",
       "    </tr>\n",
       "    <tr>\n",
       "      <th>2665</th>\n",
       "      <td>1</td>\n",
       "      <td>1</td>\n",
       "      <td>1</td>\n",
       "      <td>0</td>\n",
       "      <td>1</td>\n",
       "      <td>12</td>\n",
       "      <td>1</td>\n",
       "      <td>35</td>\n",
       "      <td>179.969364</td>\n",
       "      <td>6.0</td>\n",
       "      <td>1</td>\n",
       "      <td>2.693568</td>\n",
       "      <td>2.921441</td>\n",
       "      <td>0</td>\n",
       "    </tr>\n",
       "    <tr>\n",
       "      <th>1192</th>\n",
       "      <td>1</td>\n",
       "      <td>1</td>\n",
       "      <td>0</td>\n",
       "      <td>0</td>\n",
       "      <td>1</td>\n",
       "      <td>1</td>\n",
       "      <td>1</td>\n",
       "      <td>28</td>\n",
       "      <td>122.941008</td>\n",
       "      <td>1.0</td>\n",
       "      <td>1</td>\n",
       "      <td>0.654222</td>\n",
       "      <td>0.747897</td>\n",
       "      <td>0</td>\n",
       "    </tr>\n",
       "    <tr>\n",
       "      <th>3541</th>\n",
       "      <td>0</td>\n",
       "      <td>1</td>\n",
       "      <td>0</td>\n",
       "      <td>0</td>\n",
       "      <td>1</td>\n",
       "      <td>1</td>\n",
       "      <td>0</td>\n",
       "      <td>28</td>\n",
       "      <td>476.432655</td>\n",
       "      <td>1.0</td>\n",
       "      <td>4</td>\n",
       "      <td>3.207606</td>\n",
       "      <td>3.154818</td>\n",
       "      <td>0</td>\n",
       "    </tr>\n",
       "    <tr>\n",
       "      <th>2668</th>\n",
       "      <td>0</td>\n",
       "      <td>1</td>\n",
       "      <td>1</td>\n",
       "      <td>1</td>\n",
       "      <td>1</td>\n",
       "      <td>12</td>\n",
       "      <td>1</td>\n",
       "      <td>32</td>\n",
       "      <td>300.323212</td>\n",
       "      <td>12.0</td>\n",
       "      <td>10</td>\n",
       "      <td>0.902728</td>\n",
       "      <td>0.815679</td>\n",
       "      <td>0</td>\n",
       "    </tr>\n",
       "    <tr>\n",
       "      <th>1382</th>\n",
       "      <td>1</td>\n",
       "      <td>0</td>\n",
       "      <td>0</td>\n",
       "      <td>0</td>\n",
       "      <td>1</td>\n",
       "      <td>6</td>\n",
       "      <td>1</td>\n",
       "      <td>25</td>\n",
       "      <td>2.817200</td>\n",
       "      <td>6.0</td>\n",
       "      <td>0</td>\n",
       "      <td>0.714182</td>\n",
       "      <td>1.131559</td>\n",
       "      <td>1</td>\n",
       "    </tr>\n",
       "    <tr>\n",
       "      <th>1970</th>\n",
       "      <td>0</td>\n",
       "      <td>1</td>\n",
       "      <td>0</td>\n",
       "      <td>0</td>\n",
       "      <td>1</td>\n",
       "      <td>1</td>\n",
       "      <td>0</td>\n",
       "      <td>25</td>\n",
       "      <td>23.894029</td>\n",
       "      <td>1.0</td>\n",
       "      <td>1</td>\n",
       "      <td>1.652453</td>\n",
       "      <td>1.236812</td>\n",
       "      <td>1</td>\n",
       "    </tr>\n",
       "    <tr>\n",
       "      <th>1402</th>\n",
       "      <td>0</td>\n",
       "      <td>1</td>\n",
       "      <td>0</td>\n",
       "      <td>0</td>\n",
       "      <td>1</td>\n",
       "      <td>1</td>\n",
       "      <td>0</td>\n",
       "      <td>25</td>\n",
       "      <td>96.994850</td>\n",
       "      <td>1.0</td>\n",
       "      <td>1</td>\n",
       "      <td>1.525533</td>\n",
       "      <td>2.126957</td>\n",
       "      <td>1</td>\n",
       "    </tr>\n",
       "    <tr>\n",
       "      <th>1313</th>\n",
       "      <td>0</td>\n",
       "      <td>1</td>\n",
       "      <td>0</td>\n",
       "      <td>1</td>\n",
       "      <td>1</td>\n",
       "      <td>6</td>\n",
       "      <td>1</td>\n",
       "      <td>30</td>\n",
       "      <td>51.281517</td>\n",
       "      <td>6.0</td>\n",
       "      <td>2</td>\n",
       "      <td>0.000000</td>\n",
       "      <td>0.053030</td>\n",
       "      <td>0</td>\n",
       "    </tr>\n",
       "    <tr>\n",
       "      <th>83</th>\n",
       "      <td>1</td>\n",
       "      <td>1</td>\n",
       "      <td>0</td>\n",
       "      <td>0</td>\n",
       "      <td>1</td>\n",
       "      <td>1</td>\n",
       "      <td>0</td>\n",
       "      <td>23</td>\n",
       "      <td>27.725167</td>\n",
       "      <td>1.0</td>\n",
       "      <td>1</td>\n",
       "      <td>1.740580</td>\n",
       "      <td>1.135342</td>\n",
       "      <td>1</td>\n",
       "    </tr>\n",
       "  </tbody>\n",
       "</table>\n",
       "</div>"
      ],
      "text/plain": [
       "      gender  Near_Location  Partner  Promo_friends  Phone  Contract_period  \\\n",
       "1882       1              1        1              0      1               12   \n",
       "2804       1              1        0              0      1                1   \n",
       "1613       0              1        0              0      1                1   \n",
       "2819       1              0        1              0      1                1   \n",
       "329        1              1        0              0      1                1   \n",
       "2768       0              1        0              0      1                1   \n",
       "2665       1              1        1              0      1               12   \n",
       "1192       1              1        0              0      1                1   \n",
       "3541       0              1        0              0      1                1   \n",
       "2668       0              1        1              1      1               12   \n",
       "1382       1              0        0              0      1                6   \n",
       "1970       0              1        0              0      1                1   \n",
       "1402       0              1        0              0      1                1   \n",
       "1313       0              1        0              1      1                6   \n",
       "83         1              1        0              0      1                1   \n",
       "\n",
       "      Group_visits  Age  Avg_additional_charges_total  Month_to_end_contract  \\\n",
       "1882             1   30                    158.657501                    9.0   \n",
       "2804             0   31                    133.525137                    1.0   \n",
       "1613             1   27                    118.910280                    1.0   \n",
       "2819             0   32                     32.502052                    1.0   \n",
       "329              1   27                    133.570180                    1.0   \n",
       "2768             0   28                     59.622619                    1.0   \n",
       "2665             1   35                    179.969364                    6.0   \n",
       "1192             1   28                    122.941008                    1.0   \n",
       "3541             0   28                    476.432655                    1.0   \n",
       "2668             1   32                    300.323212                   12.0   \n",
       "1382             1   25                      2.817200                    6.0   \n",
       "1970             0   25                     23.894029                    1.0   \n",
       "1402             0   25                     96.994850                    1.0   \n",
       "1313             1   30                     51.281517                    6.0   \n",
       "83               0   23                     27.725167                    1.0   \n",
       "\n",
       "      Lifetime  Avg_class_frequency_total  Avg_class_frequency_current_month  \\\n",
       "1882         7                   0.987553                           0.874790   \n",
       "2804         5                   2.157311                           2.041093   \n",
       "1613         5                   0.912151                           0.900553   \n",
       "2819         0                   1.329883                           1.435857   \n",
       "329          2                   3.102029                           3.161236   \n",
       "2768         1                   2.339075                           2.207436   \n",
       "2665         1                   2.693568                           2.921441   \n",
       "1192         1                   0.654222                           0.747897   \n",
       "3541         4                   3.207606                           3.154818   \n",
       "2668        10                   0.902728                           0.815679   \n",
       "1382         0                   0.714182                           1.131559   \n",
       "1970         1                   1.652453                           1.236812   \n",
       "1402         1                   1.525533                           2.126957   \n",
       "1313         2                   0.000000                           0.053030   \n",
       "83           1                   1.740580                           1.135342   \n",
       "\n",
       "      Churn  \n",
       "1882      0  \n",
       "2804      0  \n",
       "1613      0  \n",
       "2819      1  \n",
       "329       0  \n",
       "2768      0  \n",
       "2665      0  \n",
       "1192      0  \n",
       "3541      0  \n",
       "2668      0  \n",
       "1382      1  \n",
       "1970      1  \n",
       "1402      1  \n",
       "1313      0  \n",
       "83        1  "
      ]
     },
     "execution_count": 3,
     "metadata": {},
     "output_type": "execute_result"
    }
   ],
   "source": [
    "df.sample(15)"
   ]
  },
  {
   "cell_type": "code",
   "execution_count": 4,
   "metadata": {
    "scrolled": false
   },
   "outputs": [
    {
     "name": "stdout",
     "output_type": "stream",
     "text": [
      "<class 'pandas.core.frame.DataFrame'>\n",
      "RangeIndex: 4000 entries, 0 to 3999\n",
      "Data columns (total 14 columns):\n",
      " #   Column                             Non-Null Count  Dtype  \n",
      "---  ------                             --------------  -----  \n",
      " 0   gender                             4000 non-null   int64  \n",
      " 1   Near_Location                      4000 non-null   int64  \n",
      " 2   Partner                            4000 non-null   int64  \n",
      " 3   Promo_friends                      4000 non-null   int64  \n",
      " 4   Phone                              4000 non-null   int64  \n",
      " 5   Contract_period                    4000 non-null   int64  \n",
      " 6   Group_visits                       4000 non-null   int64  \n",
      " 7   Age                                4000 non-null   int64  \n",
      " 8   Avg_additional_charges_total       4000 non-null   float64\n",
      " 9   Month_to_end_contract              4000 non-null   float64\n",
      " 10  Lifetime                           4000 non-null   int64  \n",
      " 11  Avg_class_frequency_total          4000 non-null   float64\n",
      " 12  Avg_class_frequency_current_month  4000 non-null   float64\n",
      " 13  Churn                              4000 non-null   int64  \n",
      "dtypes: float64(4), int64(10)\n",
      "memory usage: 437.6 KB\n"
     ]
    }
   ],
   "source": [
    "df.info()"
   ]
  },
  {
   "cell_type": "code",
   "execution_count": 5,
   "metadata": {},
   "outputs": [],
   "source": [
    "df.columns = df.columns.str.lower()"
   ]
  },
  {
   "cell_type": "code",
   "execution_count": 6,
   "metadata": {},
   "outputs": [],
   "source": [
    "df['month_to_end_contract'] = df['month_to_end_contract'].astype('int64')"
   ]
  },
  {
   "cell_type": "code",
   "execution_count": 7,
   "metadata": {},
   "outputs": [
    {
     "data": {
      "text/plain": [
       "0"
      ]
     },
     "execution_count": 7,
     "metadata": {},
     "output_type": "execute_result"
    }
   ],
   "source": [
    "df.duplicated().sum()"
   ]
  },
  {
   "cell_type": "markdown",
   "metadata": {},
   "source": [
    "---\n",
    "Явных дубликатов и пропусков ненашел, изменил тип данных столбца `month_to_end_contract` - дробный тип нас не устраивает. \n",
    "Далее поделим столбцы на качественные и количественные, посмотрим на средние, построим графики.\n",
    "___"
   ]
  },
  {
   "cell_type": "code",
   "execution_count": 8,
   "metadata": {},
   "outputs": [],
   "source": [
    "binary_c = []\n",
    "number_c = []"
   ]
  },
  {
   "cell_type": "code",
   "execution_count": 9,
   "metadata": {},
   "outputs": [],
   "source": [
    "for col in df.columns: \n",
    "    if df[col].nunique() > 2:\n",
    "        number_c.append(col)\n",
    "    else:\n",
    "        binary_c.append(col)"
   ]
  },
  {
   "cell_type": "code",
   "execution_count": 10,
   "metadata": {},
   "outputs": [
    {
     "data": {
      "text/plain": [
       "gender           0.51025\n",
       "near_location    0.84525\n",
       "partner          0.48675\n",
       "promo_friends    0.30850\n",
       "phone            0.90350\n",
       "group_visits     0.41225\n",
       "churn            0.26525\n",
       "dtype: float64"
      ]
     },
     "execution_count": 10,
     "metadata": {},
     "output_type": "execute_result"
    }
   ],
   "source": [
    "df[binary_c].mean()"
   ]
  },
  {
   "cell_type": "markdown",
   "metadata": {},
   "source": [
    "---\n",
    "По данным видно, что:\n",
    "- Соотношение мужчин и женщин почти 1 к 1\n",
    "- Около 85% клиентов живет или работает рядом с клубом\n",
    "- Около 50% клиентов имеют скидку сотрудника\n",
    "- Чуть больше 90% клиентов оставили свой номер телефона\n",
    "- Чуть больше 40% клиентов посещает групповые занятия\n",
    "- Отток клиентов - 26,5%\n",
    "___"
   ]
  },
  {
   "cell_type": "code",
   "execution_count": 11,
   "metadata": {},
   "outputs": [
    {
     "data": {
      "text/html": [
       "<div>\n",
       "<style scoped>\n",
       "    .dataframe tbody tr th:only-of-type {\n",
       "        vertical-align: middle;\n",
       "    }\n",
       "\n",
       "    .dataframe tbody tr th {\n",
       "        vertical-align: top;\n",
       "    }\n",
       "\n",
       "    .dataframe thead th {\n",
       "        text-align: right;\n",
       "    }\n",
       "</style>\n",
       "<table border=\"1\" class=\"dataframe\">\n",
       "  <thead>\n",
       "    <tr style=\"text-align: right;\">\n",
       "      <th></th>\n",
       "      <th>count</th>\n",
       "      <th>mean</th>\n",
       "      <th>std</th>\n",
       "      <th>min</th>\n",
       "      <th>25%</th>\n",
       "      <th>50%</th>\n",
       "      <th>75%</th>\n",
       "      <th>max</th>\n",
       "    </tr>\n",
       "  </thead>\n",
       "  <tbody>\n",
       "    <tr>\n",
       "      <th>contract_period</th>\n",
       "      <td>4000.0</td>\n",
       "      <td>4.681250</td>\n",
       "      <td>4.549706</td>\n",
       "      <td>1.000000</td>\n",
       "      <td>1.000000</td>\n",
       "      <td>1.000000</td>\n",
       "      <td>6.000000</td>\n",
       "      <td>12.000000</td>\n",
       "    </tr>\n",
       "    <tr>\n",
       "      <th>age</th>\n",
       "      <td>4000.0</td>\n",
       "      <td>29.184250</td>\n",
       "      <td>3.258367</td>\n",
       "      <td>18.000000</td>\n",
       "      <td>27.000000</td>\n",
       "      <td>29.000000</td>\n",
       "      <td>31.000000</td>\n",
       "      <td>41.000000</td>\n",
       "    </tr>\n",
       "    <tr>\n",
       "      <th>avg_additional_charges_total</th>\n",
       "      <td>4000.0</td>\n",
       "      <td>146.943728</td>\n",
       "      <td>96.355602</td>\n",
       "      <td>0.148205</td>\n",
       "      <td>68.868830</td>\n",
       "      <td>136.220159</td>\n",
       "      <td>210.949625</td>\n",
       "      <td>552.590740</td>\n",
       "    </tr>\n",
       "    <tr>\n",
       "      <th>month_to_end_contract</th>\n",
       "      <td>4000.0</td>\n",
       "      <td>4.322750</td>\n",
       "      <td>4.191297</td>\n",
       "      <td>1.000000</td>\n",
       "      <td>1.000000</td>\n",
       "      <td>1.000000</td>\n",
       "      <td>6.000000</td>\n",
       "      <td>12.000000</td>\n",
       "    </tr>\n",
       "    <tr>\n",
       "      <th>lifetime</th>\n",
       "      <td>4000.0</td>\n",
       "      <td>3.724750</td>\n",
       "      <td>3.749267</td>\n",
       "      <td>0.000000</td>\n",
       "      <td>1.000000</td>\n",
       "      <td>3.000000</td>\n",
       "      <td>5.000000</td>\n",
       "      <td>31.000000</td>\n",
       "    </tr>\n",
       "    <tr>\n",
       "      <th>avg_class_frequency_total</th>\n",
       "      <td>4000.0</td>\n",
       "      <td>1.879020</td>\n",
       "      <td>0.972245</td>\n",
       "      <td>0.000000</td>\n",
       "      <td>1.180875</td>\n",
       "      <td>1.832768</td>\n",
       "      <td>2.536078</td>\n",
       "      <td>6.023668</td>\n",
       "    </tr>\n",
       "    <tr>\n",
       "      <th>avg_class_frequency_current_month</th>\n",
       "      <td>4000.0</td>\n",
       "      <td>1.767052</td>\n",
       "      <td>1.052906</td>\n",
       "      <td>0.000000</td>\n",
       "      <td>0.963003</td>\n",
       "      <td>1.719574</td>\n",
       "      <td>2.510336</td>\n",
       "      <td>6.146783</td>\n",
       "    </tr>\n",
       "  </tbody>\n",
       "</table>\n",
       "</div>"
      ],
      "text/plain": [
       "                                    count        mean        std        min  \\\n",
       "contract_period                    4000.0    4.681250   4.549706   1.000000   \n",
       "age                                4000.0   29.184250   3.258367  18.000000   \n",
       "avg_additional_charges_total       4000.0  146.943728  96.355602   0.148205   \n",
       "month_to_end_contract              4000.0    4.322750   4.191297   1.000000   \n",
       "lifetime                           4000.0    3.724750   3.749267   0.000000   \n",
       "avg_class_frequency_total          4000.0    1.879020   0.972245   0.000000   \n",
       "avg_class_frequency_current_month  4000.0    1.767052   1.052906   0.000000   \n",
       "\n",
       "                                         25%         50%         75%  \\\n",
       "contract_period                     1.000000    1.000000    6.000000   \n",
       "age                                27.000000   29.000000   31.000000   \n",
       "avg_additional_charges_total       68.868830  136.220159  210.949625   \n",
       "month_to_end_contract               1.000000    1.000000    6.000000   \n",
       "lifetime                            1.000000    3.000000    5.000000   \n",
       "avg_class_frequency_total           1.180875    1.832768    2.536078   \n",
       "avg_class_frequency_current_month   0.963003    1.719574    2.510336   \n",
       "\n",
       "                                          max  \n",
       "contract_period                     12.000000  \n",
       "age                                 41.000000  \n",
       "avg_additional_charges_total       552.590740  \n",
       "month_to_end_contract               12.000000  \n",
       "lifetime                            31.000000  \n",
       "avg_class_frequency_total            6.023668  \n",
       "avg_class_frequency_current_month    6.146783  "
      ]
     },
     "execution_count": 11,
     "metadata": {},
     "output_type": "execute_result"
    }
   ],
   "source": [
    "df[number_c].describe().T"
   ]
  },
  {
   "cell_type": "code",
   "execution_count": 12,
   "metadata": {},
   "outputs": [
    {
     "data": {
      "image/png": "[encoded data removed]",
      "text/plain": [
       "<Figure size 432x288 with 1 Axes>"
      ]
     },
     "metadata": {
      "needs_background": "light"
     },
     "output_type": "display_data"
    }
   ],
   "source": [
    "sns.countplot(x = df['contract_period'], data=df);"
   ]
  },
  {
   "cell_type": "markdown",
   "metadata": {},
   "source": [
    "---\n",
    "- Больше половины клиентов берет абонимент на месяц\n",
    "- Средний возраст - 29 лет\n",
    "- Среднее время от покупки абонемента - 3 месяца\n",
    "- Средняя частота посещений в неделю - около двух\n",
    "- Средняя частота посещений в неделю слегка увеличилась относительно прошлого месяца\n",
    "___"
   ]
  },
  {
   "cell_type": "code",
   "execution_count": 13,
   "metadata": {
    "scrolled": false
   },
   "outputs": [
    {
     "data": {
      "text/html": [
       "<div>\n",
       "<style scoped>\n",
       "    .dataframe tbody tr th:only-of-type {\n",
       "        vertical-align: middle;\n",
       "    }\n",
       "\n",
       "    .dataframe tbody tr th {\n",
       "        vertical-align: top;\n",
       "    }\n",
       "\n",
       "    .dataframe thead th {\n",
       "        text-align: right;\n",
       "    }\n",
       "</style>\n",
       "<table border=\"1\" class=\"dataframe\">\n",
       "  <thead>\n",
       "    <tr style=\"text-align: right;\">\n",
       "      <th>churn</th>\n",
       "      <th>0</th>\n",
       "      <th>1</th>\n",
       "      <th>percent</th>\n",
       "    </tr>\n",
       "  </thead>\n",
       "  <tbody>\n",
       "    <tr>\n",
       "      <th>lifetime</th>\n",
       "      <td>4.711807</td>\n",
       "      <td>0.990575</td>\n",
       "      <td>375.663839</td>\n",
       "    </tr>\n",
       "    <tr>\n",
       "      <th>contract_period</th>\n",
       "      <td>5.747193</td>\n",
       "      <td>1.728558</td>\n",
       "      <td>232.484825</td>\n",
       "    </tr>\n",
       "    <tr>\n",
       "      <th>month_to_end_contract</th>\n",
       "      <td>5.283089</td>\n",
       "      <td>1.662582</td>\n",
       "      <td>217.764056</td>\n",
       "    </tr>\n",
       "    <tr>\n",
       "      <th>avg_class_frequency_current_month</th>\n",
       "      <td>2.027882</td>\n",
       "      <td>1.044546</td>\n",
       "      <td>94.140088</td>\n",
       "    </tr>\n",
       "    <tr>\n",
       "      <th>promo_friends</th>\n",
       "      <td>0.353522</td>\n",
       "      <td>0.183789</td>\n",
       "      <td>92.352012</td>\n",
       "    </tr>\n",
       "    <tr>\n",
       "      <th>group_visits</th>\n",
       "      <td>0.464103</td>\n",
       "      <td>0.268615</td>\n",
       "      <td>72.776753</td>\n",
       "    </tr>\n",
       "    <tr>\n",
       "      <th>partner</th>\n",
       "      <td>0.534195</td>\n",
       "      <td>0.355325</td>\n",
       "      <td>50.339846</td>\n",
       "    </tr>\n",
       "    <tr>\n",
       "      <th>avg_additional_charges_total</th>\n",
       "      <td>158.445715</td>\n",
       "      <td>115.082899</td>\n",
       "      <td>37.679635</td>\n",
       "    </tr>\n",
       "    <tr>\n",
       "      <th>avg_class_frequency_total</th>\n",
       "      <td>2.024876</td>\n",
       "      <td>1.474995</td>\n",
       "      <td>37.280201</td>\n",
       "    </tr>\n",
       "    <tr>\n",
       "      <th>near_location</th>\n",
       "      <td>0.873086</td>\n",
       "      <td>0.768143</td>\n",
       "      <td>13.661882</td>\n",
       "    </tr>\n",
       "    <tr>\n",
       "      <th>age</th>\n",
       "      <td>29.976523</td>\n",
       "      <td>26.989632</td>\n",
       "      <td>11.066806</td>\n",
       "    </tr>\n",
       "    <tr>\n",
       "      <th>phone</th>\n",
       "      <td>0.903709</td>\n",
       "      <td>0.902922</td>\n",
       "      <td>0.087158</td>\n",
       "    </tr>\n",
       "    <tr>\n",
       "      <th>gender</th>\n",
       "      <td>0.510037</td>\n",
       "      <td>0.510839</td>\n",
       "      <td>-0.156880</td>\n",
       "    </tr>\n",
       "  </tbody>\n",
       "</table>\n",
       "</div>"
      ],
      "text/plain": [
       "churn                                       0           1     percent\n",
       "lifetime                             4.711807    0.990575  375.663839\n",
       "contract_period                      5.747193    1.728558  232.484825\n",
       "month_to_end_contract                5.283089    1.662582  217.764056\n",
       "avg_class_frequency_current_month    2.027882    1.044546   94.140088\n",
       "promo_friends                        0.353522    0.183789   92.352012\n",
       "group_visits                         0.464103    0.268615   72.776753\n",
       "partner                              0.534195    0.355325   50.339846\n",
       "avg_additional_charges_total       158.445715  115.082899   37.679635\n",
       "avg_class_frequency_total            2.024876    1.474995   37.280201\n",
       "near_location                        0.873086    0.768143   13.661882\n",
       "age                                 29.976523   26.989632   11.066806\n",
       "phone                                0.903709    0.902922    0.087158\n",
       "gender                               0.510037    0.510839   -0.156880"
      ]
     },
     "execution_count": 13,
     "metadata": {},
     "output_type": "execute_result"
    }
   ],
   "source": [
    "difference = df.groupby('churn').mean().T\n",
    "difference['percent'] = (difference[0] / difference[1] - 1) * 100\n",
    "difference.sort_values(by = 'percent', ascending = False)"
   ]
  },
  {
   "cell_type": "markdown",
   "metadata": {},
   "source": [
    "---\n",
    "Почти все признаки различаются, не изменяются только номер телефона и пол\n",
    "___"
   ]
  },
  {
   "cell_type": "code",
   "execution_count": 14,
   "metadata": {},
   "outputs": [],
   "source": [
    "binary_c.remove('churn')"
   ]
  },
  {
   "cell_type": "markdown",
   "metadata": {},
   "source": [
    "---\n",
    "### Для большей наглядности построим графики и абсолютные, и относительные\n",
    "___"
   ]
  },
  {
   "cell_type": "code",
   "execution_count": 15,
   "metadata": {
    "scrolled": false
   },
   "outputs": [
    {
     "data": {
      "image/png": "[encoded data removed]",
      "text/plain": [
       "<Figure size 1080x1080 with 6 Axes>"
      ]
     },
     "metadata": {
      "needs_background": "light"
     },
     "output_type": "display_data"
    }
   ],
   "source": [
    "f, axes = plt.subplots(3, 2, figsize=(15, 15))\n",
    "for ax,column in zip(axes.flat,binary_c):\n",
    "    sns.countplot(x = df[column], hue='churn', data=df,ax=ax)"
   ]
  },
  {
   "cell_type": "markdown",
   "metadata": {},
   "source": [
    "---\n",
    "По графикам видно, что с выводами мы не ошиблись, не влияют на отток только пол и привязка номера.\n",
    "\n",
    "По оставшимся клиентам можно сделать такие выводы:\n",
    "- Чаще живут или работают недалеко от фитнес-клуба\n",
    "- Чаще участвуют в партнерской программе\n",
    "- Чаще посещают групповые занятия\n",
    "___"
   ]
  },
  {
   "cell_type": "code",
   "execution_count": 16,
   "metadata": {},
   "outputs": [],
   "source": [
    "number_c.remove('lifetime')"
   ]
  },
  {
   "cell_type": "code",
   "execution_count": 17,
   "metadata": {},
   "outputs": [
    {
     "data": {
      "text/html": [
       "<div>\n",
       "<style scoped>\n",
       "    .dataframe tbody tr th:only-of-type {\n",
       "        vertical-align: middle;\n",
       "    }\n",
       "\n",
       "    .dataframe tbody tr th {\n",
       "        vertical-align: top;\n",
       "    }\n",
       "\n",
       "    .dataframe thead th {\n",
       "        text-align: right;\n",
       "    }\n",
       "</style>\n",
       "<table border=\"1\" class=\"dataframe\">\n",
       "  <thead>\n",
       "    <tr style=\"text-align: right;\">\n",
       "      <th>contract_period</th>\n",
       "      <th>1</th>\n",
       "      <th>6</th>\n",
       "      <th>12</th>\n",
       "    </tr>\n",
       "    <tr>\n",
       "      <th>churn</th>\n",
       "      <th></th>\n",
       "      <th></th>\n",
       "      <th></th>\n",
       "    </tr>\n",
       "  </thead>\n",
       "  <tbody>\n",
       "    <tr>\n",
       "      <th>0</th>\n",
       "      <td>1273</td>\n",
       "      <td>729</td>\n",
       "      <td>937</td>\n",
       "    </tr>\n",
       "    <tr>\n",
       "      <th>1</th>\n",
       "      <td>934</td>\n",
       "      <td>104</td>\n",
       "      <td>23</td>\n",
       "    </tr>\n",
       "  </tbody>\n",
       "</table>\n",
       "</div>"
      ],
      "text/plain": [
       "contract_period    1    6    12\n",
       "churn                          \n",
       "0                1273  729  937\n",
       "1                 934  104   23"
      ]
     },
     "execution_count": 17,
     "metadata": {},
     "output_type": "execute_result"
    }
   ],
   "source": [
    "df.reset_index().pivot_table(index = 'churn', columns = 'contract_period', values = 'index', aggfunc = 'nunique')"
   ]
  },
  {
   "cell_type": "markdown",
   "metadata": {},
   "source": [
    "---\n",
    "Можем заметить, что для ушедших более характерны признаки:\n",
    "- Они меньше посещают занятия в среднем\n",
    "- Меньше тратят на услуги\n",
    "- Берут абонимент на короткий период\n",
    "- Чуть младше тех, кто остается\n",
    "___"
   ]
  },
  {
   "cell_type": "code",
   "execution_count": 18,
   "metadata": {},
   "outputs": [],
   "source": [
    "corr = df.corr()"
   ]
  },
  {
   "cell_type": "code",
   "execution_count": 19,
   "metadata": {},
   "outputs": [
    {
     "data": {
      "image/png": "[encoded data removed]",
      "text/plain": [
       "<Figure size 1152x504 with 2 Axes>"
      ]
     },
     "metadata": {
      "needs_background": "light"
     },
     "output_type": "display_data"
    }
   ],
   "source": [
    "f, ax = plt.subplots(figsize = (16,7))\n",
    "ax = sns.heatmap(corr, xticklabels = corr.columns, fmt='.2f', \n",
    "                 yticklabels = corr.columns, annot = True)\n",
    "bottom, top = ax.get_ylim()\n",
    "ax.set_ylim(bottom + 0.5, top - 0.5)\n",
    "plt.show()"
   ]
  },
  {
   "cell_type": "markdown",
   "metadata": {},
   "source": [
    "---\n",
    "- Можно заметить, что наличие номера и пол не коррелируют с оттоком\n",
    "- Наиболее влиятельны на отток длительность контракта, возраст, посещение групповых занятий\n",
    "- Мультиколлинеарны пары:\n",
    "    - `avg_class_frequency_current_month` и `avg_class_frequency_total`\n",
    "    - `contract_period` и `month_to_end_contract`\n",
    "___"
   ]
  },
  {
   "cell_type": "markdown",
   "metadata": {},
   "source": [
    "## Построение модели прогнозирования оттока пользователей\n",
    "___"
   ]
  },
  {
   "cell_type": "code",
   "execution_count": 20,
   "metadata": {},
   "outputs": [],
   "source": [
    "X = df.drop(columns = ['churn'])\n",
    "y = df['churn']"
   ]
  },
  {
   "cell_type": "code",
   "execution_count": 21,
   "metadata": {},
   "outputs": [],
   "source": [
    "X_train, X_test, y_train, y_test = train_test_split(X, y, random_state = 1, test_size=0.2, stratify = y)"
   ]
  },
  {
   "cell_type": "markdown",
   "metadata": {},
   "source": [
    "---\n",
    "Для начала сравним эффективность логистической регрессии и случайного леса\n",
    "___"
   ]
  },
  {
   "cell_type": "code",
   "execution_count": 22,
   "metadata": {},
   "outputs": [],
   "source": [
    "def print_all_metrics(y_test, y_pred, title):\n",
    "    print(title)\n",
    "    print('Accuracy: {:.3f}'.format(accuracy_score(y_test, y_pred)))\n",
    "    print('Precision: {:.3f}'.format(precision_score(y_test, y_pred)))\n",
    "    print('Recall: {:.3f}'.format(recall_score(y_test, y_pred)))"
   ]
  },
  {
   "cell_type": "code",
   "execution_count": 23,
   "metadata": {},
   "outputs": [],
   "source": [
    "lr_model = LogisticRegression(max_iter = 5000)\n",
    "lr_model.fit(X_train, y_train)\n",
    "y_pred_lr = lr_model.predict(X_test)"
   ]
  },
  {
   "cell_type": "code",
   "execution_count": 24,
   "metadata": {},
   "outputs": [
    {
     "name": "stdout",
     "output_type": "stream",
     "text": [
      "Метрики для модели логистической регрессии:\n",
      "Accuracy: 0.936\n",
      "Precision: 0.913\n",
      "Recall: 0.840\n"
     ]
    }
   ],
   "source": [
    "print_all_metrics(y_test, y_pred_lr, title = 'Метрики для модели логистической регрессии:')"
   ]
  },
  {
   "cell_type": "markdown",
   "metadata": {},
   "source": [
    "---\n",
    "Подберем гиперпараметры \n",
    "___"
   ]
  },
  {
   "cell_type": "code",
   "execution_count": 25,
   "metadata": {},
   "outputs": [],
   "source": [
    "test_results = pd.DataFrame(columns=['depth', 'estimators', 'accuracy', 'precision', 'recall'])\n",
    "rows_list = []"
   ]
  },
  {
   "cell_type": "code",
   "execution_count": 26,
   "metadata": {},
   "outputs": [],
   "source": [
    "for depth in range(1, 19, 1):\n",
    "    for estim in range(10, 101, 10):\n",
    "        model = RandomForestClassifier(random_state=1, n_estimators=estim, max_depth=depth)\n",
    "        model.fit(X_train, y_train)\n",
    "\n",
    "        test_pred = model.predict(X_test)\n",
    "        \n",
    "        rows_list.append({\n",
    "            'depth': depth,\n",
    "            'estimators': estim,\n",
    "            'accuracy': accuracy_score(y_test, test_pred),\n",
    "            'precision': precision_score(y_test, test_pred),\n",
    "            'recall': recall_score(y_test, test_pred)\n",
    "        })"
   ]
  },
  {
   "cell_type": "code",
   "execution_count": 27,
   "metadata": {},
   "outputs": [],
   "source": [
    "test_results = pd.DataFrame(rows_list)"
   ]
  },
  {
   "cell_type": "code",
   "execution_count": 28,
   "metadata": {},
   "outputs": [
    {
     "data": {
      "text/html": [
       "<div>\n",
       "<style scoped>\n",
       "    .dataframe tbody tr th:only-of-type {\n",
       "        vertical-align: middle;\n",
       "    }\n",
       "\n",
       "    .dataframe tbody tr th {\n",
       "        vertical-align: top;\n",
       "    }\n",
       "\n",
       "    .dataframe thead th {\n",
       "        text-align: right;\n",
       "    }\n",
       "</style>\n",
       "<table border=\"1\" class=\"dataframe\">\n",
       "  <thead>\n",
       "    <tr style=\"text-align: right;\">\n",
       "      <th></th>\n",
       "      <th>depth</th>\n",
       "      <th>estimators</th>\n",
       "      <th>accuracy</th>\n",
       "      <th>precision</th>\n",
       "      <th>recall</th>\n",
       "    </tr>\n",
       "  </thead>\n",
       "  <tbody>\n",
       "    <tr>\n",
       "      <th>173</th>\n",
       "      <td>18</td>\n",
       "      <td>40</td>\n",
       "      <td>0.93375</td>\n",
       "      <td>0.920635</td>\n",
       "      <td>0.820755</td>\n",
       "    </tr>\n",
       "    <tr>\n",
       "      <th>175</th>\n",
       "      <td>18</td>\n",
       "      <td>60</td>\n",
       "      <td>0.93375</td>\n",
       "      <td>0.916230</td>\n",
       "      <td>0.825472</td>\n",
       "    </tr>\n",
       "    <tr>\n",
       "      <th>178</th>\n",
       "      <td>18</td>\n",
       "      <td>90</td>\n",
       "      <td>0.93250</td>\n",
       "      <td>0.924731</td>\n",
       "      <td>0.811321</td>\n",
       "    </tr>\n",
       "    <tr>\n",
       "      <th>174</th>\n",
       "      <td>18</td>\n",
       "      <td>50</td>\n",
       "      <td>0.93250</td>\n",
       "      <td>0.915789</td>\n",
       "      <td>0.820755</td>\n",
       "    </tr>\n",
       "    <tr>\n",
       "      <th>177</th>\n",
       "      <td>18</td>\n",
       "      <td>80</td>\n",
       "      <td>0.93250</td>\n",
       "      <td>0.911458</td>\n",
       "      <td>0.825472</td>\n",
       "    </tr>\n",
       "  </tbody>\n",
       "</table>\n",
       "</div>"
      ],
      "text/plain": [
       "     depth  estimators  accuracy  precision    recall\n",
       "173     18          40   0.93375   0.920635  0.820755\n",
       "175     18          60   0.93375   0.916230  0.825472\n",
       "178     18          90   0.93250   0.924731  0.811321\n",
       "174     18          50   0.93250   0.915789  0.820755\n",
       "177     18          80   0.93250   0.911458  0.825472"
      ]
     },
     "execution_count": 28,
     "metadata": {},
     "output_type": "execute_result"
    }
   ],
   "source": [
    "test_results.sort_values(by=['accuracy', 'precision', 'recall'], ascending=False).head()"
   ]
  },
  {
   "cell_type": "markdown",
   "metadata": {},
   "source": [
    "---\n",
    "По таблице видно, что нам наиболее подходят max_depth = 18 и n_estimators = 40\n",
    "___"
   ]
  },
  {
   "cell_type": "code",
   "execution_count": 29,
   "metadata": {},
   "outputs": [],
   "source": [
    "rf_model = RandomForestClassifier(n_estimators = 40, random_state = 1, max_depth = 18)\n",
    "rf_model.fit(X_train, y_train)\n",
    "y_pred_rf = rf_model.predict(X_test)"
   ]
  },
  {
   "cell_type": "code",
   "execution_count": 30,
   "metadata": {},
   "outputs": [
    {
     "name": "stdout",
     "output_type": "stream",
     "text": [
      "Метрики для модели случайного леса:\n",
      "Accuracy: 0.934\n",
      "Precision: 0.921\n",
      "Recall: 0.821\n"
     ]
    }
   ],
   "source": [
    "print_all_metrics(y_test, y_pred_rf, title = 'Метрики для модели случайного леса:')"
   ]
  },
  {
   "cell_type": "markdown",
   "metadata": {},
   "source": [
    "---\n",
    "- Accuracy(доля верно угаданных ответов из всех прогнозов) чуть больше у логистической регрессии, примерно на 0.002\n",
    "- Precision(какая доля прогнозов относительно \"1\" класса верна) больше у случайного леса, примерно на 0.012\n",
    "- Recall(сколько реальных объектов \"1\" класса мы смогли обнаружить  с помощью модели) больше у логистической регрессии, примерно на 0.023\n",
    "___"
   ]
  },
  {
   "cell_type": "markdown",
   "metadata": {},
   "source": [
    "## Сделаем кластеризацию пользователей\n",
    "___"
   ]
  },
  {
   "cell_type": "code",
   "execution_count": 31,
   "metadata": {},
   "outputs": [],
   "source": [
    "sc = StandardScaler()\n",
    "x_sc_4 = sc.fit_transform(X)"
   ]
  },
  {
   "cell_type": "code",
   "execution_count": 32,
   "metadata": {
    "scrolled": false
   },
   "outputs": [],
   "source": [
    "linked = linkage(x_sc_4, method = 'ward')"
   ]
  },
  {
   "cell_type": "code",
   "execution_count": 33,
   "metadata": {},
   "outputs": [
    {
     "data": {
      "image/png": "[encoded data removed]",
      "text/plain": [
       "<Figure size 1080x720 with 1 Axes>"
      ]
     },
     "metadata": {
      "needs_background": "light"
     },
     "output_type": "display_data"
    }
   ],
   "source": [
    "plt.figure(figsize=(15, 10))  \n",
    "dendrogram(linked, orientation='top')\n",
    "plt.title('Hierarchial clustering for GYM - 4 clusters')\n",
    "plt.show()"
   ]
  },
  {
   "cell_type": "code",
   "execution_count": 34,
   "metadata": {},
   "outputs": [],
   "source": [
    "km = KMeans(n_clusters = 5, random_state = 1)\n",
    "labels = km.fit_predict(x_sc_4)"
   ]
  },
  {
   "cell_type": "code",
   "execution_count": 35,
   "metadata": {},
   "outputs": [
    {
     "data": {
      "text/html": [
       "<div>\n",
       "<style scoped>\n",
       "    .dataframe tbody tr th:only-of-type {\n",
       "        vertical-align: middle;\n",
       "    }\n",
       "\n",
       "    .dataframe tbody tr th {\n",
       "        vertical-align: top;\n",
       "    }\n",
       "\n",
       "    .dataframe thead th {\n",
       "        text-align: right;\n",
       "    }\n",
       "</style>\n",
       "<table border=\"1\" class=\"dataframe\">\n",
       "  <thead>\n",
       "    <tr style=\"text-align: right;\">\n",
       "      <th>cluster</th>\n",
       "      <th>0</th>\n",
       "      <th>1</th>\n",
       "      <th>2</th>\n",
       "      <th>3</th>\n",
       "      <th>4</th>\n",
       "    </tr>\n",
       "  </thead>\n",
       "  <tbody>\n",
       "    <tr>\n",
       "      <th>gender</th>\n",
       "      <td>0.503490</td>\n",
       "      <td>0.559622</td>\n",
       "      <td>0.484921</td>\n",
       "      <td>0.495050</td>\n",
       "      <td>0.522078</td>\n",
       "    </tr>\n",
       "    <tr>\n",
       "      <th>near_location</th>\n",
       "      <td>0.959123</td>\n",
       "      <td>0.976387</td>\n",
       "      <td>1.000000</td>\n",
       "      <td>0.000000</td>\n",
       "      <td>0.862338</td>\n",
       "    </tr>\n",
       "    <tr>\n",
       "      <th>partner</th>\n",
       "      <td>0.782652</td>\n",
       "      <td>0.360094</td>\n",
       "      <td>0.350794</td>\n",
       "      <td>0.463366</td>\n",
       "      <td>0.470130</td>\n",
       "    </tr>\n",
       "    <tr>\n",
       "      <th>promo_friends</th>\n",
       "      <td>0.573280</td>\n",
       "      <td>0.237308</td>\n",
       "      <td>0.238095</td>\n",
       "      <td>0.079208</td>\n",
       "      <td>0.306494</td>\n",
       "    </tr>\n",
       "    <tr>\n",
       "      <th>phone</th>\n",
       "      <td>1.000000</td>\n",
       "      <td>0.998819</td>\n",
       "      <td>1.000000</td>\n",
       "      <td>1.000000</td>\n",
       "      <td>0.000000</td>\n",
       "    </tr>\n",
       "    <tr>\n",
       "      <th>contract_period</th>\n",
       "      <td>10.923230</td>\n",
       "      <td>2.687131</td>\n",
       "      <td>1.953968</td>\n",
       "      <td>2.352475</td>\n",
       "      <td>4.787013</td>\n",
       "    </tr>\n",
       "    <tr>\n",
       "      <th>group_visits</th>\n",
       "      <td>0.546361</td>\n",
       "      <td>0.469894</td>\n",
       "      <td>0.341270</td>\n",
       "      <td>0.215842</td>\n",
       "      <td>0.425974</td>\n",
       "    </tr>\n",
       "    <tr>\n",
       "      <th>age</th>\n",
       "      <td>29.991027</td>\n",
       "      <td>30.109799</td>\n",
       "      <td>28.167460</td>\n",
       "      <td>28.477228</td>\n",
       "      <td>29.301299</td>\n",
       "    </tr>\n",
       "    <tr>\n",
       "      <th>avg_additional_charges_total</th>\n",
       "      <td>160.881742</td>\n",
       "      <td>161.594478</td>\n",
       "      <td>131.516081</td>\n",
       "      <td>135.457501</td>\n",
       "      <td>143.957664</td>\n",
       "    </tr>\n",
       "    <tr>\n",
       "      <th>month_to_end_contract</th>\n",
       "      <td>9.983051</td>\n",
       "      <td>2.478158</td>\n",
       "      <td>1.861905</td>\n",
       "      <td>2.198020</td>\n",
       "      <td>4.475325</td>\n",
       "    </tr>\n",
       "    <tr>\n",
       "      <th>lifetime</th>\n",
       "      <td>4.748754</td>\n",
       "      <td>4.890201</td>\n",
       "      <td>2.431746</td>\n",
       "      <td>2.809901</td>\n",
       "      <td>3.924675</td>\n",
       "    </tr>\n",
       "    <tr>\n",
       "      <th>avg_class_frequency_total</th>\n",
       "      <td>1.977676</td>\n",
       "      <td>2.847678</td>\n",
       "      <td>1.246646</td>\n",
       "      <td>1.660461</td>\n",
       "      <td>1.847220</td>\n",
       "    </tr>\n",
       "    <tr>\n",
       "      <th>avg_class_frequency_current_month</th>\n",
       "      <td>1.970029</td>\n",
       "      <td>2.846030</td>\n",
       "      <td>1.011770</td>\n",
       "      <td>1.477324</td>\n",
       "      <td>1.716369</td>\n",
       "    </tr>\n",
       "    <tr>\n",
       "      <th>churn</th>\n",
       "      <td>0.027916</td>\n",
       "      <td>0.067296</td>\n",
       "      <td>0.515079</td>\n",
       "      <td>0.443564</td>\n",
       "      <td>0.267532</td>\n",
       "    </tr>\n",
       "  </tbody>\n",
       "</table>\n",
       "</div>"
      ],
      "text/plain": [
       "cluster                                     0           1           2  \\\n",
       "gender                               0.503490    0.559622    0.484921   \n",
       "near_location                        0.959123    0.976387    1.000000   \n",
       "partner                              0.782652    0.360094    0.350794   \n",
       "promo_friends                        0.573280    0.237308    0.238095   \n",
       "phone                                1.000000    0.998819    1.000000   \n",
       "contract_period                     10.923230    2.687131    1.953968   \n",
       "group_visits                         0.546361    0.469894    0.341270   \n",
       "age                                 29.991027   30.109799   28.167460   \n",
       "avg_additional_charges_total       160.881742  161.594478  131.516081   \n",
       "month_to_end_contract                9.983051    2.478158    1.861905   \n",
       "lifetime                             4.748754    4.890201    2.431746   \n",
       "avg_class_frequency_total            1.977676    2.847678    1.246646   \n",
       "avg_class_frequency_current_month    1.970029    2.846030    1.011770   \n",
       "churn                                0.027916    0.067296    0.515079   \n",
       "\n",
       "cluster                                     3           4  \n",
       "gender                               0.495050    0.522078  \n",
       "near_location                        0.000000    0.862338  \n",
       "partner                              0.463366    0.470130  \n",
       "promo_friends                        0.079208    0.306494  \n",
       "phone                                1.000000    0.000000  \n",
       "contract_period                      2.352475    4.787013  \n",
       "group_visits                         0.215842    0.425974  \n",
       "age                                 28.477228   29.301299  \n",
       "avg_additional_charges_total       135.457501  143.957664  \n",
       "month_to_end_contract                2.198020    4.475325  \n",
       "lifetime                             2.809901    3.924675  \n",
       "avg_class_frequency_total            1.660461    1.847220  \n",
       "avg_class_frequency_current_month    1.477324    1.716369  \n",
       "churn                                0.443564    0.267532  "
      ]
     },
     "execution_count": 35,
     "metadata": {},
     "output_type": "execute_result"
    }
   ],
   "source": [
    "df['cluster'] = labels\n",
    "df.groupby('cluster').mean().T"
   ]
  },
  {
   "cell_type": "code",
   "execution_count": 36,
   "metadata": {},
   "outputs": [
    {
     "data": {
      "text/plain": [
       "2    0.31500\n",
       "0    0.25075\n",
       "1    0.21175\n",
       "3    0.12625\n",
       "4    0.09625\n",
       "Name: cluster, dtype: float64"
      ]
     },
     "execution_count": 36,
     "metadata": {},
     "output_type": "execute_result"
    }
   ],
   "source": [
    "df['cluster'].value_counts(normalize = True)"
   ]
  },
  {
   "cell_type": "markdown",
   "metadata": {},
   "source": [
    "---\n",
    "Составим портреты кластеров:\n",
    "\n",
    "\n",
    "- Кластер 3 - отток наименее вероятен:\n",
    "    - Наибольшая длительность контракта\n",
    "    - Участие в партнерской программе\n",
    "    - Наибольшие траты на услуги\n",
    "    - Чаще всех посещают групповые занятия\n",
    "    - Лучшая посещаемость\n",
    "    - Живут или работают рядом с фитнес-центром\n",
    "\n",
    "\n",
    "- Кластеры 2 и 4 - средняя вероятность оттока:\n",
    "    - Меньший срок контракта, чем в кластере 3\n",
    "    - Меньшее количество посещений групповых занятий, чем в кластере 3\n",
    "    - Возраст сопоставим с кластером 3\n",
    "    - Меньшая частота посещений\n",
    "    - Кластер 2 наиболее успешен в партнерской программе\n",
    "    - Длительность контракта в кластере 4 выше, чем в 2.\n",
    "\n",
    "\n",
    "- Кластеры 1 и 0 - большая вероятность оттока:\n",
    "    - Самая низкая продолжительность контракта\n",
    "    - Самое низкое среднее количество посещений групповых занятий\n",
    "    - Самая значительная разница между этим и прошлым месяцами\n",
    "    - Для кластера 0 характерен самый низкий средний возраст;\n",
    "    - Партнерская программа малопопулярна\n",
    "    - В кластер 0 никто не живет и не работает рядом с фитнес-центром\n",
    "___"
   ]
  },
  {
   "cell_type": "code",
   "execution_count": 37,
   "metadata": {},
   "outputs": [],
   "source": [
    "cluster_c = ['churn', 'near_location', 'partner', 'promo_friends', 'group_visits']"
   ]
  },
  {
   "cell_type": "code",
   "execution_count": 38,
   "metadata": {
    "scrolled": false
   },
   "outputs": [
    {
     "data": {
      "image/png": "[encoded data removed]",
      "text/plain": [
       "<Figure size 1080x1080 with 6 Axes>"
      ]
     },
     "metadata": {
      "needs_background": "light"
     },
     "output_type": "display_data"
    }
   ],
   "source": [
    "f, axes = plt.subplots(3, 2, figsize=(15, 15))\n",
    "for ax, col in zip(axes.flat, cluster_c):\n",
    "    sns.countplot(x = 'cluster', hue = df[col], data=df, ax=ax)\n",
    "    plt.close(2)\n",
    "plt.show()"
   ]
  },
  {
   "cell_type": "markdown",
   "metadata": {},
   "source": [
    "---\n",
    "- Максимальный отток у кластера 0, минимальный у кластера 3\n",
    "- В кластер 0 никто не живет и не работает рядом с фитнес-центром\n",
    "- Кластеры 2 и 3 пользуются партнерской программой\n",
    "- Кластер 0 с наименьшей вероятностью посещает групповые занятия, кластер 3 - с наибольшей\n",
    "___"
   ]
  },
  {
   "cell_type": "code",
   "execution_count": 39,
   "metadata": {
    "scrolled": false
   },
   "outputs": [
    {
     "data": {
      "image/png": "[encoded data removed]",
      "text/plain": [
       "<Figure size 1080x1080 with 6 Axes>"
      ]
     },
     "metadata": {
      "needs_background": "light"
     },
     "output_type": "display_data"
    }
   ],
   "source": [
    "f, axes = plt.subplots(3, 2, figsize=(15, 15))\n",
    "for ax, col in zip(axes.flat, number_c):\n",
    "    sns.boxplot(x = 'cluster', y = col, data=df,ax=ax)\n",
    "plt.show()"
   ]
  },
  {
   "cell_type": "markdown",
   "metadata": {},
   "source": [
    "---\n",
    "Графики подтверждают ранее сделанные выводы\n",
    "___"
   ]
  },
  {
   "cell_type": "markdown",
   "metadata": {},
   "source": [
    "## Выводы и рекомендации\n",
    "___"
   ]
  },
  {
   "cell_type": "markdown",
   "metadata": {},
   "source": [
    "---\n",
    "### Наиболее важные причины, влияющие на отток\n",
    "   - Меньший возраст\n",
    "   - Дом и работа далеко от фитнес-клуба\n",
    "   - Абонимент на короткий срок\n",
    "   - Отказ от партнерских программ\n",
    "   - Снижение количества посещений\n",
    "___"
   ]
  },
  {
   "cell_type": "markdown",
   "metadata": {},
   "source": [
    "---\n",
    "### Наиболее важные причины, влияющие на стабильное посещение:\n",
    "   - Дом и работа возле фитнес-центра\n",
    "   - Использование партнерских программ\n",
    "   - Траты на услуги\n",
    "   - Более старший возраст\n",
    "   ___"
   ]
  },
  {
   "cell_type": "markdown",
   "metadata": {},
   "source": [
    "---\n",
    "### Рекомендации:\n",
    "- Необходимо дальнейшее продвижение партнерских программ\n",
    "- Стоит разнообразить план абониментов\n",
    "- Необходимо заинтересовать клиентов меньшего возраста\n",
    "- Поддерживать заинтересованность кластера 3, развивать кластеры 2 и 4\n",
    "- Придать мотивации кластерам 0 и 1\n",
    "- На основе адресов кластера 0 выявить проблемные районы, разместить в них клубы\n",
    "___"
   ]
  }
 ],
 "metadata": {
  "kernelspec": {
   "display_name": "Python 3",
   "language": "python",
   "name": "python3"
  },
  "language_info": {
   "codemirror_mode": {
    "name": "ipython",
    "version": 3
   },
   "file_extension": ".py",
   "mimetype": "text/x-python",
   "name": "python",
   "nbconvert_exporter": "python",
   "pygments_lexer": "ipython3",
   "version": "3.7.6"
  }
 },
 "nbformat": 4,
 "nbformat_minor": 2
}
